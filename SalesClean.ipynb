{
 "cells": [
  {
   "cell_type": "markdown",
   "metadata": {},
   "source": [
    "# Data preprocessing and cleaning (Super Market Sales)"
   ]
  },
  {
   "cell_type": "markdown",
   "metadata": {},
   "source": [
    "Introduction and Data Dictionary "
   ]
  },
  {
   "cell_type": "markdown",
   "metadata": {},
   "source": [
    "The following dataset has records of three different branches of a supermarket for the las three months. The objective is to clean the data and prepare it for further analysis."
   ]
  },
  {
   "cell_type": "markdown",
   "metadata": {},
   "source": [
    "|Column     | Explanation   |                                                          \n",
    "| --------- | -----------------------------------------------------------------------------------------------------------|                                                                                                                     \n",
    "|Invoice id | Computer generated sales slip invoice identification number                                                |                                                           \n",
    "|Branch     |Branch of supercenter (3 branches are available identified by A, B and C).                                      |\n",
    "|City       | Location of supercenters                                                                                                                           \n",
    "|Customer type| Type of customers, recorded by Members for customers using member card and Normal for without member card|\n",
    "|Gender |Gender type of customer\n",
    "|Product line| General item categorization groups\n",
    "|Unit price| Price of each product in $\n",
    "|Quantity| Number of products purchased by customer\n",
    "|Tax| 5% tax fee for customer buying\n",
    "|Total| Total price including tax\n",
    "|Date| Date of purchase (Record available from January 2019 to March 2019)\n",
    "|Time| Purchase time (10am to 9pm)\n",
    "|Payment| Payment used by customer for purchase (3 methods are available – Cash, Credit card and Ewallet)\n",
    "|COGS| Cost of goods sold\n",
    "|Gross margin percentage| Gross margin percentage\n",
    "|Gross income| Gross income\n",
    "|Rating | Customer stratification rating on their overall shopping experience (On a scale of 1 to "
   ]
  },
  {
   "cell_type": "markdown",
   "metadata": {},
   "source": [
    "## Import Libraries and Data"
   ]
  },
  {
   "cell_type": "code",
   "execution_count": 2,
   "metadata": {},
   "outputs": [],
   "source": [
    "\n",
    "# Import \n",
    "\n",
    "import pandas as pd\n",
    "import numpy as np\n",
    "import matplotlib.pyplot as plt\n"
   ]
  },
  {
   "cell_type": "code",
   "execution_count": 3,
   "metadata": {},
   "outputs": [],
   "source": [
    "df = pd.read_csv('supermarket_sales.csv')"
   ]
  },
  {
   "cell_type": "code",
   "execution_count": 4,
   "metadata": {},
   "outputs": [
    {
     "data": {
      "text/html": [
       "<div>\n",
       "<style scoped>\n",
       "    .dataframe tbody tr th:only-of-type {\n",
       "        vertical-align: middle;\n",
       "    }\n",
       "\n",
       "    .dataframe tbody tr th {\n",
       "        vertical-align: top;\n",
       "    }\n",
       "\n",
       "    .dataframe thead th {\n",
       "        text-align: right;\n",
       "    }\n",
       "</style>\n",
       "<table border=\"1\" class=\"dataframe\">\n",
       "  <thead>\n",
       "    <tr style=\"text-align: right;\">\n",
       "      <th></th>\n",
       "      <th>Invoice ID</th>\n",
       "      <th>Branch</th>\n",
       "      <th>City</th>\n",
       "      <th>Customer type</th>\n",
       "      <th>Gender</th>\n",
       "      <th>Product line</th>\n",
       "      <th>Unit price</th>\n",
       "      <th>Quantity</th>\n",
       "      <th>Tax 5%</th>\n",
       "      <th>Total</th>\n",
       "      <th>Date</th>\n",
       "      <th>Time</th>\n",
       "      <th>Payment</th>\n",
       "      <th>cogs</th>\n",
       "      <th>gross margin percentage</th>\n",
       "      <th>gross income</th>\n",
       "      <th>Rating</th>\n",
       "    </tr>\n",
       "  </thead>\n",
       "  <tbody>\n",
       "    <tr>\n",
       "      <th>0</th>\n",
       "      <td>750-67-8428</td>\n",
       "      <td>A</td>\n",
       "      <td>Yangon</td>\n",
       "      <td>Member</td>\n",
       "      <td>Female</td>\n",
       "      <td>Health and beauty</td>\n",
       "      <td>74.69</td>\n",
       "      <td>7</td>\n",
       "      <td>26.1415</td>\n",
       "      <td>548.9715</td>\n",
       "      <td>1/5/2019</td>\n",
       "      <td>13:08</td>\n",
       "      <td>Ewallet</td>\n",
       "      <td>522.83</td>\n",
       "      <td>4.761905</td>\n",
       "      <td>26.1415</td>\n",
       "      <td>9.1</td>\n",
       "    </tr>\n",
       "    <tr>\n",
       "      <th>1</th>\n",
       "      <td>226-31-3081</td>\n",
       "      <td>C</td>\n",
       "      <td>Naypyitaw</td>\n",
       "      <td>Normal</td>\n",
       "      <td>Female</td>\n",
       "      <td>Electronic accessories</td>\n",
       "      <td>15.28</td>\n",
       "      <td>5</td>\n",
       "      <td>3.8200</td>\n",
       "      <td>80.2200</td>\n",
       "      <td>3/8/2019</td>\n",
       "      <td>10:29</td>\n",
       "      <td>Cash</td>\n",
       "      <td>76.40</td>\n",
       "      <td>4.761905</td>\n",
       "      <td>3.8200</td>\n",
       "      <td>9.6</td>\n",
       "    </tr>\n",
       "    <tr>\n",
       "      <th>2</th>\n",
       "      <td>631-41-3108</td>\n",
       "      <td>A</td>\n",
       "      <td>Yangon</td>\n",
       "      <td>Normal</td>\n",
       "      <td>Male</td>\n",
       "      <td>Home and lifestyle</td>\n",
       "      <td>46.33</td>\n",
       "      <td>7</td>\n",
       "      <td>16.2155</td>\n",
       "      <td>340.5255</td>\n",
       "      <td>3/3/2019</td>\n",
       "      <td>13:23</td>\n",
       "      <td>Credit card</td>\n",
       "      <td>324.31</td>\n",
       "      <td>4.761905</td>\n",
       "      <td>16.2155</td>\n",
       "      <td>7.4</td>\n",
       "    </tr>\n",
       "    <tr>\n",
       "      <th>3</th>\n",
       "      <td>123-19-1176</td>\n",
       "      <td>A</td>\n",
       "      <td>Yangon</td>\n",
       "      <td>Member</td>\n",
       "      <td>Male</td>\n",
       "      <td>Health and beauty</td>\n",
       "      <td>58.22</td>\n",
       "      <td>8</td>\n",
       "      <td>23.2880</td>\n",
       "      <td>489.0480</td>\n",
       "      <td>1/27/2019</td>\n",
       "      <td>20:33</td>\n",
       "      <td>Ewallet</td>\n",
       "      <td>465.76</td>\n",
       "      <td>4.761905</td>\n",
       "      <td>23.2880</td>\n",
       "      <td>8.4</td>\n",
       "    </tr>\n",
       "    <tr>\n",
       "      <th>4</th>\n",
       "      <td>373-73-7910</td>\n",
       "      <td>A</td>\n",
       "      <td>Yangon</td>\n",
       "      <td>Normal</td>\n",
       "      <td>Male</td>\n",
       "      <td>Sports and travel</td>\n",
       "      <td>86.31</td>\n",
       "      <td>7</td>\n",
       "      <td>30.2085</td>\n",
       "      <td>634.3785</td>\n",
       "      <td>2/8/2019</td>\n",
       "      <td>10:37</td>\n",
       "      <td>Ewallet</td>\n",
       "      <td>604.17</td>\n",
       "      <td>4.761905</td>\n",
       "      <td>30.2085</td>\n",
       "      <td>5.3</td>\n",
       "    </tr>\n",
       "  </tbody>\n",
       "</table>\n",
       "</div>"
      ],
      "text/plain": [
       "    Invoice ID Branch       City Customer type  Gender  \\\n",
       "0  750-67-8428      A     Yangon        Member  Female   \n",
       "1  226-31-3081      C  Naypyitaw        Normal  Female   \n",
       "2  631-41-3108      A     Yangon        Normal    Male   \n",
       "3  123-19-1176      A     Yangon        Member    Male   \n",
       "4  373-73-7910      A     Yangon        Normal    Male   \n",
       "\n",
       "             Product line  Unit price  Quantity   Tax 5%     Total       Date  \\\n",
       "0       Health and beauty       74.69         7  26.1415  548.9715   1/5/2019   \n",
       "1  Electronic accessories       15.28         5   3.8200   80.2200   3/8/2019   \n",
       "2      Home and lifestyle       46.33         7  16.2155  340.5255   3/3/2019   \n",
       "3       Health and beauty       58.22         8  23.2880  489.0480  1/27/2019   \n",
       "4       Sports and travel       86.31         7  30.2085  634.3785   2/8/2019   \n",
       "\n",
       "    Time      Payment    cogs  gross margin percentage  gross income  Rating  \n",
       "0  13:08      Ewallet  522.83                 4.761905       26.1415     9.1  \n",
       "1  10:29         Cash   76.40                 4.761905        3.8200     9.6  \n",
       "2  13:23  Credit card  324.31                 4.761905       16.2155     7.4  \n",
       "3  20:33      Ewallet  465.76                 4.761905       23.2880     8.4  \n",
       "4  10:37      Ewallet  604.17                 4.761905       30.2085     5.3  "
      ]
     },
     "execution_count": 4,
     "metadata": {},
     "output_type": "execute_result"
    }
   ],
   "source": [
    "# Overview of the data\n",
    "df.head()\n"
   ]
  },
  {
   "cell_type": "code",
   "execution_count": 5,
   "metadata": {},
   "outputs": [
    {
     "name": "stdout",
     "output_type": "stream",
     "text": [
      "<class 'pandas.core.frame.DataFrame'>\n",
      "RangeIndex: 1000 entries, 0 to 999\n",
      "Data columns (total 17 columns):\n",
      " #   Column                   Non-Null Count  Dtype  \n",
      "---  ------                   --------------  -----  \n",
      " 0   Invoice ID               1000 non-null   object \n",
      " 1   Branch                   1000 non-null   object \n",
      " 2   City                     1000 non-null   object \n",
      " 3   Customer type            1000 non-null   object \n",
      " 4   Gender                   1000 non-null   object \n",
      " 5   Product line             1000 non-null   object \n",
      " 6   Unit price               1000 non-null   float64\n",
      " 7   Quantity                 1000 non-null   int64  \n",
      " 8   Tax 5%                   1000 non-null   float64\n",
      " 9   Total                    1000 non-null   float64\n",
      " 10  Date                     1000 non-null   object \n",
      " 11  Time                     1000 non-null   object \n",
      " 12  Payment                  1000 non-null   object \n",
      " 13  cogs                     1000 non-null   float64\n",
      " 14  gross margin percentage  1000 non-null   float64\n",
      " 15  gross income             1000 non-null   float64\n",
      " 16  Rating                   1000 non-null   float64\n",
      "dtypes: float64(7), int64(1), object(9)\n",
      "memory usage: 132.9+ KB\n",
      "None\n"
     ]
    }
   ],
   "source": [
    "print(df.info())"
   ]
  },
  {
   "cell_type": "markdown",
   "metadata": {},
   "source": [
    "## Cleaning Data"
   ]
  },
  {
   "cell_type": "markdown",
   "metadata": {},
   "source": [
    "I'm going to split the process in the following steps: \n",
    "\n",
    "* Missing values\n",
    "* Duplicates\n",
    "* Outliers and errors\n",
    "* Data Integrity (relationship between columns)\n",
    "* Data consistency (relationship between rows)\n",
    "* Feature Engineering\n",
    "* Data Type validation and conversion\n",
    "\n",
    "For some columns the outliers, errors, integrity and consistency will be checked at the same time. \n"
   ]
  },
  {
   "cell_type": "markdown",
   "metadata": {},
   "source": [
    "### Missing Values\n"
   ]
  },
  {
   "cell_type": "code",
   "execution_count": 6,
   "metadata": {},
   "outputs": [
    {
     "data": {
      "text/plain": [
       "Invoice ID                 0\n",
       "Branch                     0\n",
       "City                       0\n",
       "Customer type              0\n",
       "Gender                     0\n",
       "Product line               0\n",
       "Unit price                 0\n",
       "Quantity                   0\n",
       "Tax 5%                     0\n",
       "Total                      0\n",
       "Date                       0\n",
       "Time                       0\n",
       "Payment                    0\n",
       "cogs                       0\n",
       "gross margin percentage    0\n",
       "gross income               0\n",
       "Rating                     0\n",
       "dtype: int64"
      ]
     },
     "execution_count": 6,
     "metadata": {},
     "output_type": "execute_result"
    }
   ],
   "source": [
    "# In the info section we can see that there are no null values in the data set\n",
    "# But this would be the code to check for null values\n",
    "df.isnull().sum()\n"
   ]
  },
  {
   "cell_type": "markdown",
   "metadata": {},
   "source": [
    "### Duplicates"
   ]
  },
  {
   "cell_type": "code",
   "execution_count": 7,
   "metadata": {},
   "outputs": [
    {
     "name": "stdout",
     "output_type": "stream",
     "text": [
      "True\n"
     ]
    }
   ],
   "source": [
    "# The primary key is the invoice id, let's check if it is unique\n",
    "print(df['Invoice ID'].is_unique)\n"
   ]
  },
  {
   "cell_type": "markdown",
   "metadata": {},
   "source": [
    "### Outliers and errors"
   ]
  },
  {
   "cell_type": "markdown",
   "metadata": {},
   "source": [
    "This one is specific for each column. First let's confirm that all IDs have the same format ###-##-####. "
   ]
  },
  {
   "cell_type": "markdown",
   "metadata": {},
   "source": [
    "#### Invoice ID"
   ]
  },
  {
   "cell_type": "code",
   "execution_count": 8,
   "metadata": {},
   "outputs": [
    {
     "name": "stdout",
     "output_type": "stream",
     "text": [
      "Index(['invoice_id', 'branch', 'city', 'customer_type', 'gender',\n",
      "       'product_line', 'unit_price', 'quantity', 'tax_5%', 'total', 'date',\n",
      "       'time', 'payment', 'cogs', 'gross_margin_percentage', 'gross_income',\n",
      "       'rating'],\n",
      "      dtype='object')\n"
     ]
    }
   ],
   "source": [
    "# First let's standardize the column names using snake_case\n",
    "df.columns = df.columns.str.lower().str.replace(' ', '_')\n",
    "# Let's check the result\n",
    "print(df.columns)\n",
    "\n",
    "#The reasoning behind this allows more interoperability when working \n",
    "# with python and it translates better to SQL, and is compatible with excel. "
   ]
  },
  {
   "cell_type": "code",
   "execution_count": 9,
   "metadata": {},
   "outputs": [
    {
     "name": "stdout",
     "output_type": "stream",
     "text": [
      "[11]\n"
     ]
    }
   ],
   "source": [
    "# Let's check if there are different lenghts of the invoice id\n",
    "print(df['invoice_id'].str.len().unique())"
   ]
  },
  {
   "cell_type": "code",
   "execution_count": 10,
   "metadata": {},
   "outputs": [
    {
     "name": "stdout",
     "output_type": "stream",
     "text": [
      "True\n"
     ]
    }
   ],
   "source": [
    "#Let's check if all of them follow the same pattern ###-##-####, each hash representing a number\n",
    "#I'm going to use the match method and apply a regex\n",
    "print(df['invoice_id'].str.match(r'\\d{3}-\\d{2}-\\d{4}').all())"
   ]
  },
  {
   "cell_type": "markdown",
   "metadata": {},
   "source": [
    "#### Branch "
   ]
  },
  {
   "cell_type": "markdown",
   "metadata": {},
   "source": [
    "For the Branch we just have to check that the values are A, B or C."
   ]
  },
  {
   "cell_type": "code",
   "execution_count": 11,
   "metadata": {},
   "outputs": [
    {
     "name": "stdout",
     "output_type": "stream",
     "text": [
      "['A' 'C' 'B']\n"
     ]
    }
   ],
   "source": [
    "# All values must be A, B or C\n",
    "print(df['branch'].unique())"
   ]
  },
  {
   "cell_type": "markdown",
   "metadata": {},
   "source": [
    "#### City "
   ]
  },
  {
   "cell_type": "markdown",
   "metadata": {},
   "source": [
    "For this one we are going to make sure there are only three values and some Data Integrity is that they match with the Branch."
   ]
  },
  {
   "cell_type": "code",
   "execution_count": 12,
   "metadata": {},
   "outputs": [
    {
     "name": "stdout",
     "output_type": "stream",
     "text": [
      "['Yangon' 'Naypyitaw' 'Mandalay']\n"
     ]
    }
   ],
   "source": [
    "# All cities must be Yangon, Naypyitaw or Mandalay\n",
    "print(df['city'].unique())\n"
   ]
  },
  {
   "cell_type": "code",
   "execution_count": 13,
   "metadata": {},
   "outputs": [
    {
     "name": "stdout",
     "output_type": "stream",
     "text": [
      "Empty DataFrame\n",
      "Columns: [invoice_id, branch, city, customer_type, gender, product_line, unit_price, quantity, tax_5%, total, date, time, payment, cogs, gross_margin_percentage, gross_income, rating]\n",
      "Index: []\n"
     ]
    }
   ],
   "source": [
    "# The Branch column must match with the city as follows\n",
    "    # A = Yangon, B = Mandalay, C = Naypyitaw. \n",
    "# Let's check if this is true using a dictionary\n",
    "\n",
    "# This map will result handy in the analysis section\n",
    "branch_city = {'A': 'Yangon', 'B': 'Mandalay', 'C': 'Naypyitaw'}\n",
    "\n",
    "\n",
    "\n",
    "# Check when the branch and city don't match using the dictionary\n",
    "print(df[df['branch'].map(branch_city) != df['city']])\n"
   ]
  },
  {
   "cell_type": "markdown",
   "metadata": {},
   "source": [
    "#### Customer type "
   ]
  },
  {
   "cell_type": "code",
   "execution_count": 14,
   "metadata": {},
   "outputs": [
    {
     "name": "stdout",
     "output_type": "stream",
     "text": [
      "['Member' 'Normal']\n"
     ]
    }
   ],
   "source": [
    "# Let's check if the customer type is either member or normal\n",
    "print(df['customer_type'].unique())"
   ]
  },
  {
   "cell_type": "markdown",
   "metadata": {},
   "source": [
    "#### Gender"
   ]
  },
  {
   "cell_type": "code",
   "execution_count": 15,
   "metadata": {},
   "outputs": [
    {
     "name": "stdout",
     "output_type": "stream",
     "text": [
      "['Female' 'Male']\n"
     ]
    }
   ],
   "source": [
    "print(df['gender'].unique())"
   ]
  },
  {
   "cell_type": "markdown",
   "metadata": {},
   "source": [
    "#### Product line "
   ]
  },
  {
   "cell_type": "code",
   "execution_count": 16,
   "metadata": {},
   "outputs": [
    {
     "name": "stdout",
     "output_type": "stream",
     "text": [
      "['Health and beauty' 'Electronic accessories' 'Home and lifestyle'\n",
      " 'Sports and travel' 'Food and beverages' 'Fashion accessories']\n"
     ]
    }
   ],
   "source": [
    "# This one has more senctions let's check each category\n",
    "print(df['product_line'].unique())\n"
   ]
  },
  {
   "cell_type": "markdown",
   "metadata": {},
   "source": [
    "Here we found the data is correct, but this is a key area where manual entry could create problems. For example, if the product line is \"Health and beauty\" and the person entering the data types \"Health & beauty\" or \"Health and Beauty\" or \"Health and beauty \" (with a space at the end), then the data will be recorded as a different category.\n"
   ]
  },
  {
   "cell_type": "code",
   "execution_count": 17,
   "metadata": {},
   "outputs": [],
   "source": [
    "# As example let's imagine those error mentioned above are typos found in the db \n",
    "# and we want to correct them.\n",
    "\n",
    "# Replacing \"Health & beauty\" or \"Health and Beauty\" or \"Health and beauty \" with \"Health and beauty\"\n",
    "df['product_line'] = df['product_line'].str.replace(( 'Health & beauty' or 'Health and Beauty' or 'Health and beauty '), 'Health and beauty')\n"
   ]
  },
  {
   "cell_type": "markdown",
   "metadata": {},
   "source": [
    "#### Unit Price "
   ]
  },
  {
   "cell_type": "code",
   "execution_count": 18,
   "metadata": {},
   "outputs": [],
   "source": [
    "# I know that all Unit price are numbers because the Dtype is float64\n",
    "# If not I would have to correct them or drop them"
   ]
  },
  {
   "cell_type": "code",
   "execution_count": 19,
   "metadata": {},
   "outputs": [
    {
     "name": "stdout",
     "output_type": "stream",
     "text": [
      "False\n"
     ]
    }
   ],
   "source": [
    "# We found the system instead of registering values like 23.40 or 23.00 \n",
    "# it registered 23.4 and 23.0 respectively. \n",
    "# This does not affect the analysis let's check if there is one of 3 decimals\n",
    "print(df['unit_price'].astype(str).str.match(r'\\d+\\.\\d{3}').any())\n"
   ]
  },
  {
   "cell_type": "code",
   "execution_count": 20,
   "metadata": {},
   "outputs": [
    {
     "name": "stdout",
     "output_type": "stream",
     "text": [
      "10.08\n",
      "99.96\n"
     ]
    }
   ],
   "source": [
    "# Now let's check the range of the unit price\n",
    "print(df['unit_price'].min())\n",
    "print(df['unit_price'].max())\n"
   ]
  },
  {
   "cell_type": "code",
   "execution_count": 21,
   "metadata": {},
   "outputs": [
    {
     "data": {
      "text/plain": [
       "<Axes: >"
      ]
     },
     "execution_count": 21,
     "metadata": {},
     "output_type": "execute_result"
    },
    {
     "data": {
      "image/png": "[encoded data removed]",
      "text/plain": [
       "<Figure size 640x480 with 1 Axes>"
      ]
     },
     "metadata": {},
     "output_type": "display_data"
    }
   ],
   "source": [
    "#Let's do a quick plot with matplotlib\n",
    "df.boxplot(column='unit_price', vert=False, whis=3)\n"
   ]
  },
  {
   "cell_type": "markdown",
   "metadata": {},
   "source": [
    "There are no outliers, the dataset is evenly distributed."
   ]
  },
  {
   "cell_type": "markdown",
   "metadata": {},
   "source": [
    "#### Quantity"
   ]
  },
  {
   "cell_type": "code",
   "execution_count": 22,
   "metadata": {},
   "outputs": [
    {
     "name": "stdout",
     "output_type": "stream",
     "text": [
      "[ 1  2  3  4  5  6  7  8  9 10]\n"
     ]
    }
   ],
   "source": [
    "# This column has the correct values as int64\n",
    "quantity = df['quantity'].unique()\n",
    "quantity.sort()\n",
    "print(quantity)\n",
    "\n",
    "\n",
    "\n"
   ]
  },
  {
   "cell_type": "markdown",
   "metadata": {},
   "source": [
    "#### Tax 5 %"
   ]
  },
  {
   "cell_type": "code",
   "execution_count": 23,
   "metadata": {},
   "outputs": [
    {
     "name": "stdout",
     "output_type": "stream",
     "text": [
      "0.5085\n",
      "49.65\n"
     ]
    }
   ],
   "source": [
    "# First check, datatype is correct \n",
    "# Let's rename the column for consistency tax_five_pct \n",
    "df.rename(columns={'tax_5%': 'tax_five_pct'}, inplace=True)\n",
    "\n",
    "# Let's check the range of the tax\n",
    "print(df['tax_five_pct'].min())\n",
    "print(df['tax_five_pct'].max())\n"
   ]
  },
  {
   "cell_type": "code",
   "execution_count": 24,
   "metadata": {},
   "outputs": [
    {
     "name": "stdout",
     "output_type": "stream",
     "text": [
      "Empty DataFrame\n",
      "Columns: [invoice_id, branch, city, customer_type, gender, product_line, unit_price, quantity, tax_five_pct, total, date, time, payment, cogs, gross_margin_percentage, gross_income, rating, difference]\n",
      "Index: []\n"
     ]
    }
   ],
   "source": [
    "# Remove the temporary column 'calculated_tax' and calculate the difference directly in the 'difference' column\n",
    "df['difference'] = (df['unit_price'] * df['quantity'] * 0.05 - df['tax_five_pct']).round(10).abs()\n",
    "\n",
    "#This part is tricky because the nature of the floating point numbers in computers\n",
    "# so we have to round up in the 10th decimal and only absolutes values\n",
    "\n",
    "\n",
    "#Check if the difference is different from 0\n",
    "print(df[df['difference'] != 0])\n"
   ]
  },
  {
   "cell_type": "markdown",
   "metadata": {},
   "source": [
    "#### Total "
   ]
  },
  {
   "cell_type": "code",
   "execution_count": 26,
   "metadata": {},
   "outputs": [
    {
     "name": "stdout",
     "output_type": "stream",
     "text": [
      "10.6785\n",
      "1042.65\n"
     ]
    }
   ],
   "source": [
    "#Range of the total \n",
    "print(df['total'].min())\n",
    "print(df['total'].max())\n"
   ]
  },
  {
   "cell_type": "code",
   "execution_count": 25,
   "metadata": {},
   "outputs": [
    {
     "name": "stdout",
     "output_type": "stream",
     "text": [
      "Empty DataFrame\n",
      "Columns: [invoice_id, branch, city, customer_type, gender, product_line, unit_price, quantity, tax_five_pct, total, date, time, payment, cogs, gross_margin_percentage, gross_income, rating, difference, difference_total]\n",
      "Index: []\n"
     ]
    }
   ],
   "source": [
    "# Remove the temporary column 'calculated_tax' and calculate the difference directly in the 'difference' column\n",
    "df['difference_total'] = (((df['unit_price'] * df['quantity'] + df['tax_five_pct'])) - df['total']).round(10).abs()\n",
    "\n",
    "#This part is tricky because the nature of the floating point numbers in computers\n",
    "# so we have to round up in the 10th decimal and only absolutes values\n",
    "\n",
    "\n",
    "#Check if the difference is different from 0\n",
    "print(df[df['difference_total'] != 0])\n"
   ]
  },
  {
   "cell_type": "code",
   "execution_count": 28,
   "metadata": {},
   "outputs": [],
   "source": [
    "#to clean up the process let's remove those two extra columns\n",
    "df.drop(columns=['difference', 'difference_total'], inplace=True)"
   ]
  },
  {
   "cell_type": "markdown",
   "metadata": {},
   "source": [
    "#### Date "
   ]
  },
  {
   "cell_type": "code",
   "execution_count": 32,
   "metadata": {},
   "outputs": [
    {
     "name": "stdout",
     "output_type": "stream",
     "text": [
      "True\n"
     ]
    }
   ],
   "source": [
    "#By experience, mostly in international db there sometimes are errors in the date format \n",
    "# Let's check if the date format is always dd/mm/yyyy\n",
    "# A way to do this is that the first digits before the first / must be between 1 and 12 \n",
    "#let's slice the string and check if it is true\n",
    "print(df['date'].str.split('/').str[0].astype(int).between(1, 12).all())\n"
   ]
  },
  {
   "cell_type": "code",
   "execution_count": 33,
   "metadata": {},
   "outputs": [],
   "source": [
    "#Let's transform the date column to datetime\n",
    "df['date'] = pd.to_datetime(df['date'])\n",
    "\n",
    "#This is very important in feature engineering and analysis\n",
    "#Sometimes date and time are joined in the same value but this on is already separated"
   ]
  },
  {
   "cell_type": "markdown",
   "metadata": {},
   "source": [
    "#### Time "
   ]
  },
  {
   "cell_type": "code",
   "execution_count": 40,
   "metadata": {},
   "outputs": [
    {
     "name": "stdout",
     "output_type": "stream",
     "text": [
      "[10 11 12 13 14 15 16 17 18 19 20]\n"
     ]
    }
   ],
   "source": [
    "#We should make sure that all the values are in working hours of the supermarket\n",
    "\n",
    "#Let's check the range of the hours \n",
    "#Get the digits before the : \n",
    "\n",
    "working_hours = df['time'].str.split(':').str[0].astype(int).unique()\n",
    "working_hours.sort()\n",
    "print(working_hours)\n",
    "\n"
   ]
  },
  {
   "cell_type": "code",
   "execution_count": 43,
   "metadata": {},
   "outputs": [
    {
     "data": {
      "image/png": "[encoded data removed]",
      "text/plain": [
       "<Figure size 1200x600 with 1 Axes>"
      ]
     },
     "metadata": {},
     "output_type": "display_data"
    }
   ],
   "source": [
    "#Let's check the distribution of the hours\n",
    "df['time'].str.split(':').str[0].astype(int).hist(bins=24, figsize=(12, 6))\n",
    "plt.show()\n",
    "\n",
    "##Note depending on the needs of the analysis we can create a datetime object \n"
   ]
  },
  {
   "cell_type": "markdown",
   "metadata": {},
   "source": [
    "#### Payment "
   ]
  },
  {
   "cell_type": "code",
   "execution_count": 44,
   "metadata": {},
   "outputs": [
    {
     "name": "stdout",
     "output_type": "stream",
     "text": [
      "['Ewallet' 'Cash' 'Credit card']\n"
     ]
    }
   ],
   "source": [
    "#Let's check the values of the payment method\n",
    "print(df['payment'].unique())\n"
   ]
  },
  {
   "cell_type": "code",
   "execution_count": 45,
   "metadata": {},
   "outputs": [
    {
     "name": "stdout",
     "output_type": "stream",
     "text": [
      "payment\n",
      "Ewallet        345\n",
      "Cash           344\n",
      "Credit card    311\n",
      "Name: count, dtype: int64\n"
     ]
    }
   ],
   "source": [
    "# The are no types let's count values\n",
    "print(df['payment'].value_counts())\n"
   ]
  },
  {
   "cell_type": "markdown",
   "metadata": {},
   "source": [
    "#### COGS "
   ]
  },
  {
   "cell_type": "code",
   "execution_count": 64,
   "metadata": {},
   "outputs": [
    {
     "name": "stdout",
     "output_type": "stream",
     "text": [
      "Index(['invoice_id', 'branch', 'city', 'customer_type', 'gender',\n",
      "       'product_line', 'unit_price', 'quantity', 'cogs', 'tax_five_pct',\n",
      "       'total', 'date', 'time', 'payment', 'gross_margin_percentage',\n",
      "       'gross_income', 'rating'],\n",
      "      dtype='object')\n"
     ]
    }
   ],
   "source": [
    "# In the db cogs column is far from it's closest comparison  Unit price * quantity\n",
    "# Let's move the column after quantity\n",
    "\n",
    "# Get the index of the columns\n",
    "cogs_index = df.columns.get_loc('cogs')\n",
    "quantity_index = df.columns.get_loc('quantity')\n",
    "\n",
    "# Construct the new order of the columns\n",
    "new_order = list(df.columns)\n",
    "new_order.insert(quantity_index + 1, new_order.pop(cogs_index))\n",
    "\n",
    "# Reorder the columns\n",
    "df = df[new_order]\n",
    "\n",
    "#Verify the result\n",
    "print(df.columns)\n",
    "\n"
   ]
  },
  {
   "cell_type": "code",
   "execution_count": 65,
   "metadata": {},
   "outputs": [
    {
     "name": "stdout",
     "output_type": "stream",
     "text": [
      "True\n"
     ]
    }
   ],
   "source": [
    "#Here we find something unusual that tells us this was dummy data\n",
    "#The cogs column is the result of the multiplication of the unit price and the quantity and not the cost of inventory\n",
    "#Let's make sure that the cogs column is the result of the multiplication of the unit price and the quantity\n",
    "#Let's create a temporary column to check the result\n",
    "df['temp_cogs'] = df['unit_price'] * df['quantity']\n",
    "df['temp_cogs'] = df['temp_cogs'].round(10).abs()\n",
    "#Let's check the result\n",
    "print(df['temp_cogs'].equals(df['cogs']))\n",
    "#Let's drop the temporary column\n",
    "df.drop(columns='temp_cogs', inplace=True)\n"
   ]
  },
  {
   "cell_type": "code",
   "execution_count": 49,
   "metadata": {},
   "outputs": [
    {
     "name": "stdout",
     "output_type": "stream",
     "text": [
      "10.17\n",
      "993.0\n"
     ]
    }
   ],
   "source": [
    "# Let's check the range of the coost of goods sold\n",
    "print(df['cogs'].min())\n",
    "print(df['cogs'].max())\n"
   ]
  },
  {
   "cell_type": "markdown",
   "metadata": {},
   "source": [
    "#### Gross margin percentage"
   ]
  },
  {
   "cell_type": "code",
   "execution_count": 62,
   "metadata": {},
   "outputs": [
    {
     "name": "stdout",
     "output_type": "stream",
     "text": [
      "gross_margin_percentage\n",
      "4.761905    1000\n",
      "Name: count, dtype: int64\n"
     ]
    }
   ],
   "source": [
    "#Count the values of the gross margin percentage\n",
    "print(df['gross_margin_percentage'].value_counts())\n",
    "\n",
    "#Another hint this was dummy data is that the gross margin percentage is always 4.761905\n",
    "\n"
   ]
  },
  {
   "cell_type": "markdown",
   "metadata": {},
   "source": [
    "#### Gross Income"
   ]
  },
  {
   "cell_type": "code",
   "execution_count": 66,
   "metadata": {},
   "outputs": [
    {
     "name": "stdout",
     "output_type": "stream",
     "text": [
      "0.5085\n",
      "49.65\n"
     ]
    }
   ],
   "source": [
    "# Let's check the range of the gross income\n",
    "print(df['gross_income'].min())\n",
    "print(df['gross_income'].max())\n"
   ]
  },
  {
   "cell_type": "markdown",
   "metadata": {},
   "source": [
    "#### Rating\n"
   ]
  },
  {
   "cell_type": "code",
   "execution_count": 67,
   "metadata": {},
   "outputs": [
    {
     "name": "stdout",
     "output_type": "stream",
     "text": [
      "4.0\n",
      "10.0\n"
     ]
    }
   ],
   "source": [
    "# Let's check the range of the rating\n",
    "print(df['rating'].min())\n",
    "print(df['rating'].max())\n"
   ]
  },
  {
   "cell_type": "code",
   "execution_count": 69,
   "metadata": {},
   "outputs": [
    {
     "data": {
      "image/png": "[encoded data removed]",
      "text/plain": [
       "<Figure size 1200x600 with 1 Axes>"
      ]
     },
     "metadata": {},
     "output_type": "display_data"
    }
   ],
   "source": [
    "#let's check the distribution of the rating\n",
    "df['rating'].hist(bins=10, figsize=(12, 6))\n",
    "plt.show()\n"
   ]
  },
  {
   "cell_type": "markdown",
   "metadata": {},
   "source": [
    "### Feature Engineering"
   ]
  },
  {
   "cell_type": "markdown",
   "metadata": {},
   "source": [
    "At this point we could select the columns we want to keep and drop the rest. However, we can create some new features that could be useful for further analysis.\n",
    "\n",
    "As example, we can create a new column with the day of the week of the purchase, or the month, week number, etc.\n",
    "\n"
   ]
  },
  {
   "cell_type": "markdown",
   "metadata": {},
   "source": []
  }
 ],
 "metadata": {
  "kernelspec": {
   "display_name": "Python 3",
   "language": "python",
   "name": "python3"
  },
  "language_info": {
   "codemirror_mode": {
    "name": "ipython",
    "version": 3
   },
   "file_extension": ".py",
   "mimetype": "text/x-python",
   "name": "python",
   "nbconvert_exporter": "python",
   "pygments_lexer": "ipython3",
   "version": "3.11.3"
  }
 },
 "nbformat": 4,
 "nbformat_minor": 2
}
